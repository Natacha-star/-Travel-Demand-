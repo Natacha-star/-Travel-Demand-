{
 "cells": [
  {
   "cell_type": "markdown",
   "id": "46a8b89f-7cfc-41c7-b240-52f20f1c7673",
   "metadata": {},
   "source": [
    "## Travel Demand Trends to Tech Hubs Using the Amadeus API\r\n",
    "\n",
    "\n",
    "In this notebook, we focus on **data preparation**, **cleaning**, and **preprocessing** for the *Travel Demand Dataset***, a popular dataset often used for classification tasks predictinghow the AI industry boom has affected travel demand to major tech cities like San Francisco, London, Bangalore, Singapore, and Tel Aviv. It's purpose  is to build a prototype data pipeline using the Amadeus API to fetch flight demand data and analyze travel trends to these destinations, and provide recommendations for travel brands.\r\n",
    ".\n",
    "\n",
    "Good data preprocessing is crucial for reliable and interpretable results in machine learning and analytics workflows. Here, we address common data issues such as **missing values, duplicates, and inconsistent categorical labels** while creating derived features to improve downstream analysis.\n",
    "\n",
    "\n",
    "We start by importing essential Python libraries for data handling and manipulation.\n",
    "\n",
    "- `pandas` for structured data operations.\n",
    "\n",
    "- `numpy` for numerical operations.\n",
    "\n",
    "- `os` for interacting with the operating system and directory structures.\n",
    "\n"
   ]
  },
  {
   "cell_type": "code",
   "execution_count": 1,
   "id": "fd8ec55d-622d-4ed4-9035-4185f18f5f08",
   "metadata": {},
   "outputs": [],
   "source": [
    "import pandas as pd \n",
    "import numpy as np \n",
    "import os "
   ]
  },
  {
   "cell_type": "markdown",
   "id": "b1ca423a-6dab-4b89-9ae5-be0df1fe2172",
   "metadata": {},
   "source": [
    "## Define and Create Paths\n",
    "To ensure reproducibility andorganized storage, we programmatically create directories for:\n",
    "\n",
    "- **raw data**\n",
    "- **processed data**\n",
    "- **results**\n",
    "- **documentation**\n",
    "\n",
    "These directories will store intermediate and final outputs for reproducibility.\n"
   ]
  },
  {
   "cell_type": "code",
   "execution_count": 2,
   "id": "293c6187-2331-46cf-ad8f-6a34598fda2c",
   "metadata": {},
   "outputs": [],
   "source": [
    "# Get working directory \n",
    "current_dir = os.getcwd()\n",
    "\n",
    "# Go one directory up to the root directory \n",
    "project_root_dir = os.path.dirname(current_dir)\n",
    "\n",
    "data_dir = os.path.join(project_root_dir, 'data')\n",
    "raw_dir = os.path.join(data_dir,'raw')\n",
    "processed_dir = os.path.join(data_dir,'processed')\n",
    "\n",
    "# Define paths to results folder \n",
    "results_dir = os.path.join(project_root_dir,'results')\n",
    "\n",
    "# Define paths to docs folder \n",
    "docs_dir = os.path.join(project_root_dir,'docs') \n",
    "\n",
    "#Create directories if they do not exist \n",
    "os.makedirs(raw_dir,exist_ok= True)\n",
    "os.makedirs(processed_dir,exist_ok= True)\n",
    "os.makedirs(results_dir,exist_ok= True)\n",
    "os.makedirs(data_dir,exist_ok= True)"
   ]
  },
  {
   "cell_type": "markdown",
   "id": "bcf59cb9-efb5-4247-987a-8492c151753c",
   "metadata": {},
   "source": [
    " ## Read in the data\n",
    " We load the **Adult Income dataset** as a CSV file.\n",
    "\n",
    "Key considerations here are:\n",
    "\n",
    "- We treat `?` as missing values (`na_values = '?'`).\n",
    "- We use `skipinitialspace = True` to remove extra spaces after delimeters which is common in text-based datasets.\n",
    "\n",
    "After loading, we inspect the first few rows.\n"
   ]
  },
  {
   "cell_type": "code",
   "execution_count": 3,
   "id": "fee7bc17-586f-4552-b6f5-d9f94bf8f6af",
   "metadata": {},
   "outputs": [
    {
     "data": {
      "text/html": [
       "<div>\n",
       "<style scoped>\n",
       "    .dataframe tbody tr th:only-of-type {\n",
       "        vertical-align: middle;\n",
       "    }\n",
       "\n",
       "    .dataframe tbody tr th {\n",
       "        vertical-align: top;\n",
       "    }\n",
       "\n",
       "    .dataframe thead th {\n",
       "        text-align: right;\n",
       "    }\n",
       "</style>\n",
       "<table border=\"1\" class=\"dataframe\">\n",
       "  <thead>\n",
       "    <tr style=\"text-align: right;\">\n",
       "      <th></th>\n",
       "      <th>Destination</th>\n",
       "      <th>Departure Date</th>\n",
       "      <th>Airline</th>\n",
       "      <th>Price (USD)</th>\n",
       "      <th>Number of Stops</th>\n",
       "      <th>Travel Time</th>\n",
       "      <th>Available Seats</th>\n",
       "    </tr>\n",
       "  </thead>\n",
       "  <tbody>\n",
       "    <tr>\n",
       "      <th>0</th>\n",
       "      <td>San Francisco</td>\n",
       "      <td>7/1/2025</td>\n",
       "      <td>B6</td>\n",
       "      <td>$79.90</td>\n",
       "      <td>0</td>\n",
       "      <td>6H15M</td>\n",
       "      <td>1</td>\n",
       "    </tr>\n",
       "    <tr>\n",
       "      <th>1</th>\n",
       "      <td>San Francisco</td>\n",
       "      <td>7/1/2025</td>\n",
       "      <td>B6</td>\n",
       "      <td>$79.90</td>\n",
       "      <td>0</td>\n",
       "      <td>6H20M</td>\n",
       "      <td>1</td>\n",
       "    </tr>\n",
       "    <tr>\n",
       "      <th>2</th>\n",
       "      <td>San Francisco</td>\n",
       "      <td>7/1/2025</td>\n",
       "      <td>B6</td>\n",
       "      <td>$79.90</td>\n",
       "      <td>0</td>\n",
       "      <td>6H35M</td>\n",
       "      <td>1</td>\n",
       "    </tr>\n",
       "    <tr>\n",
       "      <th>3</th>\n",
       "      <td>San Francisco</td>\n",
       "      <td>7/1/2025</td>\n",
       "      <td>B6</td>\n",
       "      <td>$79.90</td>\n",
       "      <td>0</td>\n",
       "      <td>6H45M</td>\n",
       "      <td>1</td>\n",
       "    </tr>\n",
       "    <tr>\n",
       "      <th>4</th>\n",
       "      <td>San Francisco</td>\n",
       "      <td>7/1/2025</td>\n",
       "      <td>F9</td>\n",
       "      <td>$156.03</td>\n",
       "      <td>1</td>\n",
       "      <td>5H42M</td>\n",
       "      <td>3</td>\n",
       "    </tr>\n",
       "    <tr>\n",
       "      <th>5</th>\n",
       "      <td>San Francisco</td>\n",
       "      <td>7/1/2025</td>\n",
       "      <td>F9</td>\n",
       "      <td>$156.03</td>\n",
       "      <td>1</td>\n",
       "      <td>2H55M</td>\n",
       "      <td>3</td>\n",
       "    </tr>\n",
       "    <tr>\n",
       "      <th>6</th>\n",
       "      <td>San Francisco</td>\n",
       "      <td>7/1/2025</td>\n",
       "      <td>F9</td>\n",
       "      <td>$160.88</td>\n",
       "      <td>1</td>\n",
       "      <td>4H1M</td>\n",
       "      <td>3</td>\n",
       "    </tr>\n",
       "    <tr>\n",
       "      <th>7</th>\n",
       "      <td>San Francisco</td>\n",
       "      <td>7/1/2025</td>\n",
       "      <td>F9</td>\n",
       "      <td>$160.88</td>\n",
       "      <td>1</td>\n",
       "      <td>2H28M</td>\n",
       "      <td>3</td>\n",
       "    </tr>\n",
       "    <tr>\n",
       "      <th>8</th>\n",
       "      <td>San Francisco</td>\n",
       "      <td>7/1/2025</td>\n",
       "      <td>F9</td>\n",
       "      <td>$160.88</td>\n",
       "      <td>1</td>\n",
       "      <td>5H42M</td>\n",
       "      <td>3</td>\n",
       "    </tr>\n",
       "    <tr>\n",
       "      <th>9</th>\n",
       "      <td>San Francisco</td>\n",
       "      <td>7/1/2025</td>\n",
       "      <td>B6</td>\n",
       "      <td>$215.15</td>\n",
       "      <td>1</td>\n",
       "      <td>3H17M</td>\n",
       "      <td>1</td>\n",
       "    </tr>\n",
       "  </tbody>\n",
       "</table>\n",
       "</div>"
      ],
      "text/plain": [
       "     Destination Departure Date Airline Price (USD)   Number of Stops  \\\n",
       "0  San Francisco       7/1/2025      B6      $79.90                 0   \n",
       "1  San Francisco       7/1/2025      B6      $79.90                 0   \n",
       "2  San Francisco       7/1/2025      B6      $79.90                 0   \n",
       "3  San Francisco       7/1/2025      B6      $79.90                 0   \n",
       "4  San Francisco       7/1/2025      F9     $156.03                 1   \n",
       "5  San Francisco       7/1/2025      F9     $156.03                 1   \n",
       "6  San Francisco       7/1/2025      F9     $160.88                 1   \n",
       "7  San Francisco       7/1/2025      F9     $160.88                 1   \n",
       "8  San Francisco       7/1/2025      F9     $160.88                 1   \n",
       "9  San Francisco       7/1/2025      B6     $215.15                 1   \n",
       "\n",
       "  Travel Time  Available Seats  \n",
       "0       6H15M                1  \n",
       "1       6H20M                1  \n",
       "2       6H35M                1  \n",
       "3       6H45M                1  \n",
       "4       5H42M                3  \n",
       "5       2H55M                3  \n",
       "6        4H1M                3  \n",
       "7       2H28M                3  \n",
       "8       5H42M                3  \n",
       "9       3H17M                1  "
      ]
     },
     "execution_count": 3,
     "metadata": {},
     "output_type": "execute_result"
    }
   ],
   "source": [
    "travel_demand_filename = os.path.join(raw_dir, 'tech_city_flights.csv')\n",
    "df = pd.read_csv(travel_demand_filename, na_values='?',skipinitialspace= True)\n",
    "df.head(10)"
   ]
  },
  {
   "cell_type": "markdown",
   "id": "0db9d2bc-619f-415f-a7f2-570e4842192b",
   "metadata": {},
   "source": [
    "We also inspect the dataset's shape. We see that the data has *10,709* rows and *7* columns."
   ]
  },
  {
   "cell_type": "code",
   "execution_count": 4,
   "id": "39d36071-2faa-419d-9fd2-3112cbabb1b3",
   "metadata": {},
   "outputs": [
    {
     "data": {
      "text/plain": [
       "(10709, 7)"
      ]
     },
     "execution_count": 4,
     "metadata": {},
     "output_type": "execute_result"
    }
   ],
   "source": [
    "df.shape"
   ]
  },
  {
   "cell_type": "markdown",
   "id": "21c96931-bcc0-44d9-a4d7-d698ddadfffe",
   "metadata": {},
   "source": [
    "In addition, we check the data types using `.info` \n",
    "\n",
    "And then we adjust them according to their serving purposes"
   ]
  },
  {
   "cell_type": "code",
   "execution_count": 5,
   "id": "7f4b4f00-8db2-45db-8df3-7767d6decfbd",
   "metadata": {},
   "outputs": [
    {
     "name": "stdout",
     "output_type": "stream",
     "text": [
      "<class 'pandas.core.frame.DataFrame'>\n",
      "RangeIndex: 10709 entries, 0 to 10708\n",
      "Data columns (total 7 columns):\n",
      " #   Column           Non-Null Count  Dtype \n",
      "---  ------           --------------  ----- \n",
      " 0   Destination      10709 non-null  object\n",
      " 1   Departure Date   10709 non-null  object\n",
      " 2   Airline          10709 non-null  object\n",
      " 3   Price (USD)      10709 non-null  object\n",
      " 4   Number of Stops  10709 non-null  int64 \n",
      " 5   Travel Time      10709 non-null  object\n",
      " 6   Available Seats  10709 non-null  int64 \n",
      "dtypes: int64(2), object(5)\n",
      "memory usage: 585.8+ KB\n"
     ]
    }
   ],
   "source": [
    "df.info()"
   ]
  },
  {
   "cell_type": "code",
   "execution_count": 6,
   "id": "9f8e2600-b304-446a-84d4-7b77eb2d2b24",
   "metadata": {},
   "outputs": [],
   "source": [
    "df['Departure Date'] = pd.to_datetime(df['Departure Date'])\n",
    "df['Price (USD) '] = df['Price (USD) '].replace('[\\$,]', '', regex=True).astype(float)\n"
   ]
  },
  {
   "cell_type": "markdown",
   "id": "4dedfaf3-2d5e-4547-8cac-19c8b5b91f79",
   "metadata": {},
   "source": [
    "Converting Travel Time into datetime format to soften our visualisation "
   ]
  },
  {
   "cell_type": "code",
   "execution_count": 9,
   "id": "97696926-8935-4135-944a-f0180257357d",
   "metadata": {},
   "outputs": [
    {
     "name": "stdout",
     "output_type": "stream",
     "text": [
      "['6H15M' '6H20M' '6H35M' '6H45M' '5H42M' '2H55M' '4H1M' '2H28M' '3H17M'\n",
      " '3H' '6H28M' '1H20M' '1H28M' '1H21M' '6H40M' '6H1M' '6H21M' '6H25M'\n",
      " '6H19M' '6H']\n"
     ]
    }
   ],
   "source": [
    "print(df['Travel Time'].unique()[:20])\n"
   ]
  },
  {
   "cell_type": "code",
   "execution_count": 11,
   "id": "74c549a1-ddcd-445a-b770-2bf7116f813f",
   "metadata": {},
   "outputs": [],
   "source": [
    "# Extract hours and minutes as separate columns\n",
    "time_parts = df['Travel Time'].str.upper().str.extract(r'(?P<hours>\\d+)H(?P<minutes>\\d*)M?')\n",
    "\n",
    "# Fix empty minutes to zero and convert to int\n",
    "time_parts['minutes'] = time_parts['minutes'].replace('', 0).astype(int)\n",
    "time_parts['hours'] = time_parts['hours'].astype(int)\n",
    "\n",
    "# Combine hours and minutes into timedelta\n",
    "df['Travel Time'] = pd.to_timedelta(time_parts['hours'], unit='h') + pd.to_timedelta(time_parts['minutes'], unit='m')\n"
   ]
  },
  {
   "cell_type": "code",
   "execution_count": 13,
   "id": "5e0d2c24-5509-4fe8-8b81-57b997588c59",
   "metadata": {},
   "outputs": [],
   "source": [
    "df['Travel Time Str'] = df['Travel Time'].apply(\n",
    "    lambda td: f\"{int(td.total_seconds() // 3600):02d}:{int((td.total_seconds() % 3600) // 60):02d}\"\n",
    ")\n"
   ]
  },
  {
   "cell_type": "code",
   "execution_count": 14,
   "id": "09fe186f-bb86-48cf-9d05-473f10e95b9a",
   "metadata": {},
   "outputs": [
    {
     "name": "stdout",
     "output_type": "stream",
     "text": [
      "      Travel Time Travel Time Str\n",
      "0 0 days 06:15:00           06:15\n",
      "1 0 days 06:20:00           06:20\n",
      "2 0 days 06:35:00           06:35\n",
      "3 0 days 06:45:00           06:45\n",
      "4 0 days 05:42:00           05:42\n"
     ]
    }
   ],
   "source": [
    "print(df[['Travel Time', 'Travel Time Str']].head())\n"
   ]
  },
  {
   "cell_type": "code",
   "execution_count": 15,
   "id": "f45e660d-b016-4c10-9601-b989ecc9ea74",
   "metadata": {},
   "outputs": [
    {
     "name": "stdout",
     "output_type": "stream",
     "text": [
      "<class 'pandas.core.frame.DataFrame'>\n",
      "RangeIndex: 10709 entries, 0 to 10708\n",
      "Data columns (total 8 columns):\n",
      " #   Column           Non-Null Count  Dtype          \n",
      "---  ------           --------------  -----          \n",
      " 0   Destination      10709 non-null  object         \n",
      " 1   Departure Date   10709 non-null  datetime64[ns] \n",
      " 2   Airline          10709 non-null  object         \n",
      " 3   Price (USD)      10709 non-null  float64        \n",
      " 4   Number of Stops  10709 non-null  int64          \n",
      " 5   Travel Time      10709 non-null  timedelta64[ns]\n",
      " 6   Available Seats  10709 non-null  int64          \n",
      " 7   Travel Time Str  10709 non-null  object         \n",
      "dtypes: datetime64[ns](1), float64(1), int64(2), object(3), timedelta64[ns](1)\n",
      "memory usage: 669.4+ KB\n"
     ]
    }
   ],
   "source": [
    "df.info()"
   ]
  },
  {
   "cell_type": "code",
   "execution_count": 16,
   "id": "b700ffae-a549-4987-8d90-2dc05f6b810a",
   "metadata": {},
   "outputs": [
    {
     "data": {
      "text/plain": [
       "<bound method Series.unique of 0        06:15\n",
       "1        06:20\n",
       "2        06:35\n",
       "3        06:45\n",
       "4        05:42\n",
       "         ...  \n",
       "10704    01:48\n",
       "10705    01:29\n",
       "10706    07:50\n",
       "10707    07:30\n",
       "10708    07:55\n",
       "Name: Travel Time Str, Length: 10709, dtype: object>"
      ]
     },
     "execution_count": 16,
     "metadata": {},
     "output_type": "execute_result"
    }
   ],
   "source": [
    "df['Travel Time Str'].unique"
   ]
  },
  {
   "cell_type": "code",
   "execution_count": 17,
   "id": "2b2504de-534f-4d39-afb9-77b2c958289d",
   "metadata": {},
   "outputs": [
    {
     "data": {
      "text/html": [
       "<div>\n",
       "<style scoped>\n",
       "    .dataframe tbody tr th:only-of-type {\n",
       "        vertical-align: middle;\n",
       "    }\n",
       "\n",
       "    .dataframe tbody tr th {\n",
       "        vertical-align: top;\n",
       "    }\n",
       "\n",
       "    .dataframe thead th {\n",
       "        text-align: right;\n",
       "    }\n",
       "</style>\n",
       "<table border=\"1\" class=\"dataframe\">\n",
       "  <thead>\n",
       "    <tr style=\"text-align: right;\">\n",
       "      <th></th>\n",
       "      <th>Destination</th>\n",
       "      <th>Departure Date</th>\n",
       "      <th>Airline</th>\n",
       "      <th>Price (USD)</th>\n",
       "      <th>Number of Stops</th>\n",
       "      <th>Travel Time</th>\n",
       "      <th>Available Seats</th>\n",
       "      <th>Travel Time Str</th>\n",
       "    </tr>\n",
       "  </thead>\n",
       "  <tbody>\n",
       "    <tr>\n",
       "      <th>0</th>\n",
       "      <td>San Francisco</td>\n",
       "      <td>2025-07-01</td>\n",
       "      <td>B6</td>\n",
       "      <td>79.90</td>\n",
       "      <td>0</td>\n",
       "      <td>0 days 06:15:00</td>\n",
       "      <td>1</td>\n",
       "      <td>06:15</td>\n",
       "    </tr>\n",
       "    <tr>\n",
       "      <th>1</th>\n",
       "      <td>San Francisco</td>\n",
       "      <td>2025-07-01</td>\n",
       "      <td>B6</td>\n",
       "      <td>79.90</td>\n",
       "      <td>0</td>\n",
       "      <td>0 days 06:20:00</td>\n",
       "      <td>1</td>\n",
       "      <td>06:20</td>\n",
       "    </tr>\n",
       "    <tr>\n",
       "      <th>2</th>\n",
       "      <td>San Francisco</td>\n",
       "      <td>2025-07-01</td>\n",
       "      <td>B6</td>\n",
       "      <td>79.90</td>\n",
       "      <td>0</td>\n",
       "      <td>0 days 06:35:00</td>\n",
       "      <td>1</td>\n",
       "      <td>06:35</td>\n",
       "    </tr>\n",
       "    <tr>\n",
       "      <th>3</th>\n",
       "      <td>San Francisco</td>\n",
       "      <td>2025-07-01</td>\n",
       "      <td>B6</td>\n",
       "      <td>79.90</td>\n",
       "      <td>0</td>\n",
       "      <td>0 days 06:45:00</td>\n",
       "      <td>1</td>\n",
       "      <td>06:45</td>\n",
       "    </tr>\n",
       "    <tr>\n",
       "      <th>4</th>\n",
       "      <td>San Francisco</td>\n",
       "      <td>2025-07-01</td>\n",
       "      <td>F9</td>\n",
       "      <td>156.03</td>\n",
       "      <td>1</td>\n",
       "      <td>0 days 05:42:00</td>\n",
       "      <td>3</td>\n",
       "      <td>05:42</td>\n",
       "    </tr>\n",
       "    <tr>\n",
       "      <th>...</th>\n",
       "      <td>...</td>\n",
       "      <td>...</td>\n",
       "      <td>...</td>\n",
       "      <td>...</td>\n",
       "      <td>...</td>\n",
       "      <td>...</td>\n",
       "      <td>...</td>\n",
       "      <td>...</td>\n",
       "    </tr>\n",
       "    <tr>\n",
       "      <th>10704</th>\n",
       "      <td>Tel Aviv</td>\n",
       "      <td>2025-07-28</td>\n",
       "      <td>LY</td>\n",
       "      <td>1892.03</td>\n",
       "      <td>1</td>\n",
       "      <td>0 days 01:48:00</td>\n",
       "      <td>9</td>\n",
       "      <td>01:48</td>\n",
       "    </tr>\n",
       "    <tr>\n",
       "      <th>10705</th>\n",
       "      <td>Tel Aviv</td>\n",
       "      <td>2025-07-28</td>\n",
       "      <td>LY</td>\n",
       "      <td>1892.03</td>\n",
       "      <td>1</td>\n",
       "      <td>0 days 01:29:00</td>\n",
       "      <td>4</td>\n",
       "      <td>01:29</td>\n",
       "    </tr>\n",
       "    <tr>\n",
       "      <th>10706</th>\n",
       "      <td>Tel Aviv</td>\n",
       "      <td>2025-07-28</td>\n",
       "      <td>LX</td>\n",
       "      <td>4883.50</td>\n",
       "      <td>1</td>\n",
       "      <td>0 days 07:50:00</td>\n",
       "      <td>9</td>\n",
       "      <td>07:50</td>\n",
       "    </tr>\n",
       "    <tr>\n",
       "      <th>10707</th>\n",
       "      <td>Tel Aviv</td>\n",
       "      <td>2025-07-28</td>\n",
       "      <td>IB</td>\n",
       "      <td>9694.38</td>\n",
       "      <td>1</td>\n",
       "      <td>0 days 07:30:00</td>\n",
       "      <td>2</td>\n",
       "      <td>07:30</td>\n",
       "    </tr>\n",
       "    <tr>\n",
       "      <th>10708</th>\n",
       "      <td>Tel Aviv</td>\n",
       "      <td>2025-07-28</td>\n",
       "      <td>LX</td>\n",
       "      <td>12719.28</td>\n",
       "      <td>1</td>\n",
       "      <td>0 days 07:55:00</td>\n",
       "      <td>2</td>\n",
       "      <td>07:55</td>\n",
       "    </tr>\n",
       "  </tbody>\n",
       "</table>\n",
       "<p>10709 rows × 8 columns</p>\n",
       "</div>"
      ],
      "text/plain": [
       "         Destination Departure Date Airline  Price (USD)   Number of Stops  \\\n",
       "0      San Francisco     2025-07-01      B6         79.90                0   \n",
       "1      San Francisco     2025-07-01      B6         79.90                0   \n",
       "2      San Francisco     2025-07-01      B6         79.90                0   \n",
       "3      San Francisco     2025-07-01      B6         79.90                0   \n",
       "4      San Francisco     2025-07-01      F9        156.03                1   \n",
       "...              ...            ...     ...           ...              ...   \n",
       "10704       Tel Aviv     2025-07-28      LY       1892.03                1   \n",
       "10705       Tel Aviv     2025-07-28      LY       1892.03                1   \n",
       "10706       Tel Aviv     2025-07-28      LX       4883.50                1   \n",
       "10707       Tel Aviv     2025-07-28      IB       9694.38                1   \n",
       "10708       Tel Aviv     2025-07-28      LX      12719.28                1   \n",
       "\n",
       "          Travel Time  Available Seats Travel Time Str  \n",
       "0     0 days 06:15:00                1           06:15  \n",
       "1     0 days 06:20:00                1           06:20  \n",
       "2     0 days 06:35:00                1           06:35  \n",
       "3     0 days 06:45:00                1           06:45  \n",
       "4     0 days 05:42:00                3           05:42  \n",
       "...               ...              ...             ...  \n",
       "10704 0 days 01:48:00                9           01:48  \n",
       "10705 0 days 01:29:00                4           01:29  \n",
       "10706 0 days 07:50:00                9           07:50  \n",
       "10707 0 days 07:30:00                2           07:30  \n",
       "10708 0 days 07:55:00                2           07:55  \n",
       "\n",
       "[10709 rows x 8 columns]"
      ]
     },
     "execution_count": 17,
     "metadata": {},
     "output_type": "execute_result"
    }
   ],
   "source": [
    "df"
   ]
  },
  {
   "cell_type": "markdown",
   "id": "ed32f721-f69f-4672-92a9-4af386ee4353",
   "metadata": {},
   "source": [
    "## understanding the datasets\n",
    "Before proceeding with the cleaning, we would like to understanding the variables deeply. This would help guide the cleaning process. The subsequent tables detail the types, meaning and values or ranges of the variables in the dataset.\n",
    "\n",
    "#### Data Summary and Variable Types\n",
    "\n",
    "The dataset contains **10,709 rows** and the following columns:\n",
    "\n",
    "**Table 1: Summary table of the variables in the dataset**\n",
    "\n",
    "| Column          | Data Type            | Description                             |\n",
    "| --------------- | -------------------- | --------------------------------------- |\n",
    "| Destination     | Object (Categorical) | Name of the tech hub destination city   |\n",
    "| Departure Date  | datetime64\\[ns]      | Flight departure date                   |\n",
    "| Airline         | Object (Categorical) | Airline operating the flight            |\n",
    "| Price (USD)     | float64              | Flight price in US dollars              |\n",
    "| Number of Stops | int64                | Number of stops during the flight       |\n",
    "| Travel Time     | timedelta64\\[ns]     | Total flight duration                   |\n",
    "| Available Seats | int64                | Number of seats available on the flight |\n",
    "| Travel Time Str | Object (String)      | Flight duration formatted as \"HH\\:MM\"   |\n",
    "\n",
    "**Table 2: Numeric Variables Table**\n",
    "\n",
    "These are continuous or count variables useful for statistical summaries and numeric visualizations:\n",
    "\n",
    "| Column          | Description                  | Notes                                                   |\n",
    "| --------------- | ---------------------------- | ------------------------------------------------------- |\n",
    "| Price (USD)     | Flight price in USD          | Used for price comparison and scatterplots              |\n",
    "| Number of Stops | Number of stops on flight    | Numeric count; also treated categorically in some cases |\n",
    "| Travel Time     | Flight duration as timedelta | Convert to minutes/hours for plotting and correlation   |\n",
    "| Available Seats | Seats available              | Useful to analyze seat availability patterns            |\n",
    "\n",
    "**Table 3: Categorical Variables Table**\n",
    "\n",
    "These variables represent groups or categories for grouping and counting:\n",
    "\n",
    "| Column      | Description      | Notes                                       |\n",
    "| ----------- | ---------------- | ------------------------------------------- |\n",
    "| Destination | Destination city | Key grouping for price/travel time analysis |\n",
    "| Airline     | Airline name     | Grouping for airline-based insights         |"
   ]
  },
  {
   "cell_type": "markdown",
   "id": "e9b214ec-ed69-4867-a6e1-9238f02ea462",
   "metadata": {},
   "source": [
    "## Dealing with Missing Vlues"
   ]
  },
  {
   "cell_type": "code",
   "execution_count": 18,
   "id": "2747ab8c-aaf1-43d3-a971-0ebfcdbca64b",
   "metadata": {},
   "outputs": [
    {
     "data": {
      "text/plain": [
       "Destination        0\n",
       "Departure Date     0\n",
       "Airline            0\n",
       "Price (USD)        0\n",
       "Number of Stops    0\n",
       "Travel Time        0\n",
       "Available Seats    0\n",
       "Travel Time Str    0\n",
       "dtype: int64"
      ]
     },
     "execution_count": 18,
     "metadata": {},
     "output_type": "execute_result"
    }
   ],
   "source": [
    "df.isnull().sum()"
   ]
  },
  {
   "cell_type": "markdown",
   "id": "5135af1d-b880-4914-a562-6bf26e1f261a",
   "metadata": {},
   "source": [
    "Using `.isnull().sum()`, we identify columns with missing values\n",
    "\n",
    "In our dataset, we have no missing values."
   ]
  },
  {
   "cell_type": "markdown",
   "id": "2c8b8e5d-93df-44e4-b572-141a98d8e84f",
   "metadata": {},
   "source": [
    "### 3. Removing Duplicates\n",
    "Duplicates can distort statistical summaries and model performance. Using `.duplicated().sum()`, we count duplicate records.\n",
    "\n",
    "\n",
    "\n",
    "We then inspect the duplicated records.\n"
   ]
  },
  {
   "cell_type": "code",
   "execution_count": 19,
   "id": "684e93f1-742a-4122-b7c7-4ea004d1eefd",
   "metadata": {},
   "outputs": [
    {
     "data": {
      "text/plain": [
       "2839"
      ]
     },
     "execution_count": 19,
     "metadata": {},
     "output_type": "execute_result"
    }
   ],
   "source": [
    "df.duplicated().sum()"
   ]
  },
  {
   "cell_type": "code",
   "execution_count": 22,
   "id": "023b4ca1-aeaa-4670-be8c-d4483ac350da",
   "metadata": {},
   "outputs": [
    {
     "data": {
      "text/html": [
       "<div>\n",
       "<style scoped>\n",
       "    .dataframe tbody tr th:only-of-type {\n",
       "        vertical-align: middle;\n",
       "    }\n",
       "\n",
       "    .dataframe tbody tr th {\n",
       "        vertical-align: top;\n",
       "    }\n",
       "\n",
       "    .dataframe thead th {\n",
       "        text-align: right;\n",
       "    }\n",
       "</style>\n",
       "<table border=\"1\" class=\"dataframe\">\n",
       "  <thead>\n",
       "    <tr style=\"text-align: right;\">\n",
       "      <th></th>\n",
       "      <th>Destination</th>\n",
       "      <th>Departure Date</th>\n",
       "      <th>Airline</th>\n",
       "      <th>Price (USD)</th>\n",
       "      <th>Number of Stops</th>\n",
       "      <th>Travel Time</th>\n",
       "      <th>Available Seats</th>\n",
       "      <th>Travel Time Str</th>\n",
       "    </tr>\n",
       "  </thead>\n",
       "  <tbody>\n",
       "    <tr>\n",
       "      <th>13</th>\n",
       "      <td>San Francisco</td>\n",
       "      <td>2025-07-01</td>\n",
       "      <td>B6</td>\n",
       "      <td>262.45</td>\n",
       "      <td>1</td>\n",
       "      <td>0 days 01:20:00</td>\n",
       "      <td>1</td>\n",
       "      <td>01:20</td>\n",
       "    </tr>\n",
       "    <tr>\n",
       "      <th>15</th>\n",
       "      <td>San Francisco</td>\n",
       "      <td>2025-07-01</td>\n",
       "      <td>B6</td>\n",
       "      <td>262.45</td>\n",
       "      <td>1</td>\n",
       "      <td>0 days 01:20:00</td>\n",
       "      <td>1</td>\n",
       "      <td>01:20</td>\n",
       "    </tr>\n",
       "    <tr>\n",
       "      <th>29</th>\n",
       "      <td>San Francisco</td>\n",
       "      <td>2025-07-01</td>\n",
       "      <td>AS</td>\n",
       "      <td>403.83</td>\n",
       "      <td>1</td>\n",
       "      <td>0 days 06:25:00</td>\n",
       "      <td>3</td>\n",
       "      <td>06:25</td>\n",
       "    </tr>\n",
       "    <tr>\n",
       "      <th>30</th>\n",
       "      <td>San Francisco</td>\n",
       "      <td>2025-07-01</td>\n",
       "      <td>AS</td>\n",
       "      <td>403.83</td>\n",
       "      <td>1</td>\n",
       "      <td>0 days 06:25:00</td>\n",
       "      <td>3</td>\n",
       "      <td>06:25</td>\n",
       "    </tr>\n",
       "    <tr>\n",
       "      <th>33</th>\n",
       "      <td>San Francisco</td>\n",
       "      <td>2025-07-01</td>\n",
       "      <td>AS</td>\n",
       "      <td>439.83</td>\n",
       "      <td>1</td>\n",
       "      <td>0 days 06:19:00</td>\n",
       "      <td>7</td>\n",
       "      <td>06:19</td>\n",
       "    </tr>\n",
       "    <tr>\n",
       "      <th>...</th>\n",
       "      <td>...</td>\n",
       "      <td>...</td>\n",
       "      <td>...</td>\n",
       "      <td>...</td>\n",
       "      <td>...</td>\n",
       "      <td>...</td>\n",
       "      <td>...</td>\n",
       "      <td>...</td>\n",
       "    </tr>\n",
       "    <tr>\n",
       "      <th>10694</th>\n",
       "      <td>Tel Aviv</td>\n",
       "      <td>2025-07-28</td>\n",
       "      <td>AF</td>\n",
       "      <td>1324.31</td>\n",
       "      <td>1</td>\n",
       "      <td>0 days 07:35:00</td>\n",
       "      <td>9</td>\n",
       "      <td>07:35</td>\n",
       "    </tr>\n",
       "    <tr>\n",
       "      <th>10697</th>\n",
       "      <td>Tel Aviv</td>\n",
       "      <td>2025-07-28</td>\n",
       "      <td>AF</td>\n",
       "      <td>1324.31</td>\n",
       "      <td>1</td>\n",
       "      <td>0 days 07:35:00</td>\n",
       "      <td>9</td>\n",
       "      <td>07:35</td>\n",
       "    </tr>\n",
       "    <tr>\n",
       "      <th>10700</th>\n",
       "      <td>Tel Aviv</td>\n",
       "      <td>2025-07-28</td>\n",
       "      <td>KL</td>\n",
       "      <td>1410.11</td>\n",
       "      <td>2</td>\n",
       "      <td>0 days 02:27:00</td>\n",
       "      <td>9</td>\n",
       "      <td>02:27</td>\n",
       "    </tr>\n",
       "    <tr>\n",
       "      <th>10701</th>\n",
       "      <td>Tel Aviv</td>\n",
       "      <td>2025-07-28</td>\n",
       "      <td>KL</td>\n",
       "      <td>1410.11</td>\n",
       "      <td>2</td>\n",
       "      <td>0 days 02:27:00</td>\n",
       "      <td>9</td>\n",
       "      <td>02:27</td>\n",
       "    </tr>\n",
       "    <tr>\n",
       "      <th>10702</th>\n",
       "      <td>Tel Aviv</td>\n",
       "      <td>2025-07-28</td>\n",
       "      <td>KL</td>\n",
       "      <td>1410.11</td>\n",
       "      <td>2</td>\n",
       "      <td>0 days 02:27:00</td>\n",
       "      <td>9</td>\n",
       "      <td>02:27</td>\n",
       "    </tr>\n",
       "  </tbody>\n",
       "</table>\n",
       "<p>4867 rows × 8 columns</p>\n",
       "</div>"
      ],
      "text/plain": [
       "         Destination Departure Date Airline  Price (USD)   Number of Stops  \\\n",
       "13     San Francisco     2025-07-01      B6        262.45                1   \n",
       "15     San Francisco     2025-07-01      B6        262.45                1   \n",
       "29     San Francisco     2025-07-01      AS        403.83                1   \n",
       "30     San Francisco     2025-07-01      AS        403.83                1   \n",
       "33     San Francisco     2025-07-01      AS        439.83                1   \n",
       "...              ...            ...     ...           ...              ...   \n",
       "10694       Tel Aviv     2025-07-28      AF       1324.31                1   \n",
       "10697       Tel Aviv     2025-07-28      AF       1324.31                1   \n",
       "10700       Tel Aviv     2025-07-28      KL       1410.11                2   \n",
       "10701       Tel Aviv     2025-07-28      KL       1410.11                2   \n",
       "10702       Tel Aviv     2025-07-28      KL       1410.11                2   \n",
       "\n",
       "          Travel Time  Available Seats Travel Time Str  \n",
       "13    0 days 01:20:00                1           01:20  \n",
       "15    0 days 01:20:00                1           01:20  \n",
       "29    0 days 06:25:00                3           06:25  \n",
       "30    0 days 06:25:00                3           06:25  \n",
       "33    0 days 06:19:00                7           06:19  \n",
       "...               ...              ...             ...  \n",
       "10694 0 days 07:35:00                9           07:35  \n",
       "10697 0 days 07:35:00                9           07:35  \n",
       "10700 0 days 02:27:00                9           02:27  \n",
       "10701 0 days 02:27:00                9           02:27  \n",
       "10702 0 days 02:27:00                9           02:27  \n",
       "\n",
       "[4867 rows x 8 columns]"
      ]
     },
     "execution_count": 22,
     "metadata": {},
     "output_type": "execute_result"
    }
   ],
   "source": [
    "df[df.duplicated(keep=False)]"
   ]
  },
  {
   "cell_type": "code",
   "execution_count": 23,
   "id": "c2774ad4-1d5f-42e1-87c6-8503fe55ba71",
   "metadata": {},
   "outputs": [],
   "source": [
    "df = df.drop_duplicates()"
   ]
  },
  {
   "cell_type": "markdown",
   "id": "95a64dfc-1b17-4e4b-b7ac-2f5613ac710c",
   "metadata": {},
   "source": [
    "We can confirm that we have no duplicates left in the dataset at this juncture.\n"
   ]
  },
  {
   "cell_type": "code",
   "execution_count": 24,
   "id": "2989ecd3-5f8e-4941-a1df-7ea652daa168",
   "metadata": {},
   "outputs": [
    {
     "data": {
      "text/plain": [
       "0"
      ]
     },
     "execution_count": 24,
     "metadata": {},
     "output_type": "execute_result"
    }
   ],
   "source": [
    "df.duplicated().sum()"
   ]
  },
  {
   "cell_type": "code",
   "execution_count": 25,
   "id": "6c3c6e90-5a80-461e-837b-9bb09bf32f74",
   "metadata": {},
   "outputs": [
    {
     "data": {
      "text/plain": [
       "(7870, 8)"
      ]
     },
     "execution_count": 25,
     "metadata": {},
     "output_type": "execute_result"
    }
   ],
   "source": [
    "df.shape"
   ]
  },
  {
   "cell_type": "markdown",
   "id": "0e67746e-4b0a-48e7-bb73-7e93a3f609ae",
   "metadata": {},
   "source": [
    "The final shape of the clean dataset is thus *7,870* rows and *8* columns."
   ]
  },
  {
   "cell_type": "markdown",
   "id": "ca960b4d-9a74-4e65-ad64-63a0997cdd72",
   "metadata": {},
   "source": [
    "Finally, we save the clean, processed dataset as a CSV file in our `processed` directory for future modelling and analysis"
   ]
  },
  {
   "cell_type": "code",
   "execution_count": 26,
   "id": "5f48559f-94bb-4db3-a3be-931050218fbc",
   "metadata": {},
   "outputs": [],
   "source": [
    "final_file  = os.path.join(processed_dir,'Travel_cleaned.csv')\n",
    "df.to_csv(final_file, index=False)"
   ]
  },
  {
   "cell_type": "code",
   "execution_count": null,
   "id": "070d1d9b-3882-454e-bc38-9c76f8514dc9",
   "metadata": {},
   "outputs": [],
   "source": []
  }
 ],
 "metadata": {
  "kernelspec": {
   "display_name": "Python 3 (ipykernel)",
   "language": "python",
   "name": "python3"
  },
  "language_info": {
   "codemirror_mode": {
    "name": "ipython",
    "version": 3
   },
   "file_extension": ".py",
   "mimetype": "text/x-python",
   "name": "python",
   "nbconvert_exporter": "python",
   "pygments_lexer": "ipython3",
   "version": "3.11.7"
  }
 },
 "nbformat": 4,
 "nbformat_minor": 5
}
